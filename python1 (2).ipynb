{
  "nbformat": 4,
  "nbformat_minor": 0,
  "metadata": {
    "colab": {
      "name": "python1",
      "provenance": []
    },
    "kernelspec": {
      "name": "python3",
      "display_name": "Python 3"
    },
    "language_info": {
      "name": "python"
    }
  },
  "cells": [
    {
      "cell_type": "code",
      "execution_count": 19,
      "metadata": {
        "colab": {
          "base_uri": "https://localhost:8080/"
        },
        "id": "sxD5rtQWChkz",
        "outputId": "a49d2d4d-9878-4162-babb-d54537464d93"
      },
      "outputs": [
        {
          "output_type": "stream",
          "name": "stdout",
          "text": [
            "Addition= 15\n",
            "substraction= 5\n",
            "Multiplication= 50\n",
            "Division= 2.0\n",
            "Power= 100000\n",
            "Modulus= 0\n",
            "Floor division= 2\n"
          ]
        }
      ],
      "source": [
        "from IPython.core.display import Math\n",
        "x,y =10,5\n",
        "print(\"Addition=\",x+y)\n",
        "print(\"substraction=\",x-y)\n",
        "print(\"Multiplication=\",x*y)\n",
        "print(\"Division=\",x/y)\n",
        "print(\"Power=\",x**y)\n",
        "print(\"Modulus=\",x%y)\n",
        "print(\"Floor division=\",x//y)"
      ]
    }
  ]
}